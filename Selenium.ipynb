{
 "cells": [
  {
   "cell_type": "markdown",
   "metadata": {},
   "source": [
    "# Pair programming Selenium\n",
    "\n",
    "Ejercicios Selenium Extracción de Datos de Libros de Ficción en La Casa del Libro\n",
    "Imagina que eres un analista de datos en una importante cadena de librerías y tu misión es recopilar información actualizada sobre los libros de ficción disponibles en el mercado. Esta información es vital para tomar decisiones estratégicas, como determinar qué libros de ficción deben ser promocionados, ajustar los precios competitivamente y gestionar adecuadamente el inventario. La Casa del Libro es uno de los principales competidores, por lo que es esencial mantenerse al tanto de su catálogo.\n",
    "\n",
    "### Objetivo del Ejercicio: \n",
    "El objetivo de este ejercicio es que las alumnas utilicen Selenium en Python para automatizar la extracción de datos de los libros de ficción en el sitio web de La Casa del Libro. Deberán obtener información clave de los libros, incluyendo título, autor, precio, editorial, idioma y número de páginas.\n",
    "\n",
    "Descripción:\n",
    "- Acceso a la Página de La Casa del Libro: Utilizando Selenium, deberás automatizar el proceso de navegación hacia la página de libros de ficción en el sitio web de La Casa del Libro.\n",
    "- Extracción de Datos de las 5 Primeras Páginas: Una vez en la página de libros de ficción, debes programar su script para que recorra los 5 primeros libros de libros, extrayendo los siguientes datos de cada libro:\n",
    "- Título del libro.\n",
    "- Autor(es) del libro.\n",
    "- Precio del libro.\n",
    "- Editorial del libro.\n",
    "- Idioma del libro.\n",
    "- Número de páginas del libro.\n",
    "- Almacenamiento de Datos: Los datos extraídos deben almacenarse en un DataFrame."
   ]
  },
  {
   "cell_type": "code",
   "execution_count": 1,
   "metadata": {},
   "outputs": [
    {
     "name": "stderr",
     "output_type": "stream",
     "text": [
      "C:\\Users\\karin\\AppData\\Local\\Temp\\ipykernel_22044\\2079677913.py:3: DeprecationWarning: \n",
      "Pyarrow will become a required dependency of pandas in the next major release of pandas (pandas 3.0),\n",
      "(to allow more performant data types, such as the Arrow string type, and better interoperability with other libraries)\n",
      "but was not found to be installed on your system.\n",
      "If this would cause problems for you,\n",
      "please provide us feedback at https://github.com/pandas-dev/pandas/issues/54466\n",
      "        \n",
      "  import pandas as pd  # Pandas es una poderosa librería para manipulación y análisis de datos en Python.\n"
     ]
    }
   ],
   "source": [
    "# Importar librerías para tratamiento de datos\n",
    "# -----------------------------------------------------------------------\n",
    "import pandas as pd  # Pandas es una poderosa librería para manipulación y análisis de datos en Python.\n",
    "\n",
    "# Importar librerías para web scraping y manipulación de datos\n",
    "# -----------------------------------------------------------------------\n",
    "from bs4 import BeautifulSoup\n",
    "import requests\n",
    "\n",
    "# Importar librerías para automatización de navegadores web con Selenium\n",
    "# -----------------------------------------------------------------------\n",
    "from selenium import webdriver  # Selenium es una herramienta para automatizar la interacción con navegadores web.\n",
    "from webdriver_manager.chrome import ChromeDriverManager  # ChromeDriverManager gestiona la instalación del controlador de Chrome.\n",
    "from selenium.webdriver.common.keys import Keys  # Keys es útil para simular eventos de teclado en Selenium.\n",
    "from selenium.webdriver.support.ui import Select  # Select se utiliza para interactuar con elementos <select> en páginas web.\n",
    "\n",
    "# Importar librerías para pausar la ejecución\n",
    "# -----------------------------------------------------------------------\n",
    "from time import sleep  # Sleep se utiliza para pausar la ejecución del programa por un número de segundos.\n",
    "\n",
    "# Configuraciones\n",
    "# -----------------------------------------------------------------------\n",
    "pd.set_option('display.max_columns', None)  # Establece una opción de Pandas para mostrar todas las columnas de un DataFrame.\n",
    "\n",
    "# -----------------------------------------------------------------------\n",
    "import warnings\n",
    "warnings.filterwarnings('ignore')"
   ]
  },
  {
   "cell_type": "code",
   "execution_count": 5,
   "metadata": {},
   "outputs": [
    {
     "name": "stdout",
     "output_type": "stream",
     "text": [
      "VUELVE A AMAR TU CAOS Y EL ROCE DE VIVIR\n",
      "ALBERT ESPINOSA\n",
      "18.9\n",
      "GRIJALBO\n",
      "CASTELLANO\n",
      "248\n",
      "EL HIJO OLVIDADO\n",
      "MIKEL SANTIAGO\n",
      "21.75\n",
      "B\n"
     ]
    },
    {
     "ename": "NoSuchElementException",
     "evalue": "Message: no such element: Unable to locate element: {\"method\":\"css selector\",\"selector\":\"#app > div.v-application--wrap > main > div > div > div > div:nth-child(6) > div > div.caracteristicas.mt-4.pt-4 > div:nth-child(3)\"}\n  (Session info: chrome=121.0.6167.185); For documentation on this error, please visit: https://www.selenium.dev/documentation/webdriver/troubleshooting/errors#no-such-element-exception\nStacktrace:\n\tGetHandleVerifier [0x00007FF7F7A97012+3522402]\n\t(No symbol) [0x00007FF7F76B8352]\n\t(No symbol) [0x00007FF7F7565ABB]\n\t(No symbol) [0x00007FF7F75ABF0E]\n\t(No symbol) [0x00007FF7F75AC08C]\n\t(No symbol) [0x00007FF7F75EE437]\n\t(No symbol) [0x00007FF7F75CF09F]\n\t(No symbol) [0x00007FF7F75EBDA3]\n\t(No symbol) [0x00007FF7F75CEE03]\n\t(No symbol) [0x00007FF7F759F4D4]\n\t(No symbol) [0x00007FF7F75A05F1]\n\tGetHandleVerifier [0x00007FF7F7AC9B9D+3730157]\n\tGetHandleVerifier [0x00007FF7F7B1F02D+4079485]\n\tGetHandleVerifier [0x00007FF7F7B175D3+4048163]\n\tGetHandleVerifier [0x00007FF7F77EA649+718233]\n\t(No symbol) [0x00007FF7F76C4A3F]\n\t(No symbol) [0x00007FF7F76BFA94]\n\t(No symbol) [0x00007FF7F76BFBC2]\n\t(No symbol) [0x00007FF7F76AF2E4]\n\tBaseThreadInitThunk [0x00007FFF1850257D+29]\n\tRtlUserThreadStart [0x00007FFF1946AA58+40]\n",
     "output_type": "error",
     "traceback": [
      "\u001b[1;31m---------------------------------------------------------------------------\u001b[0m",
      "\u001b[1;31mNoSuchElementException\u001b[0m                    Traceback (most recent call last)",
      "Cell \u001b[1;32mIn[5], line 52\u001b[0m\n\u001b[0;32m     49\u001b[0m \u001b[38;5;28mprint\u001b[39m(editorial)\n\u001b[0;32m     51\u001b[0m \u001b[38;5;66;03m#sacamos idioma \u001b[39;00m\n\u001b[1;32m---> 52\u001b[0m idioma2 \u001b[38;5;241m=\u001b[39m \u001b[43mdriver\u001b[49m\u001b[38;5;241;43m.\u001b[39;49m\u001b[43mfind_element\u001b[49m\u001b[43m(\u001b[49m\u001b[38;5;124;43m\"\u001b[39;49m\u001b[38;5;124;43mcss selector\u001b[39;49m\u001b[38;5;124;43m\"\u001b[39;49m\u001b[43m,\u001b[49m\u001b[43m \u001b[49m\u001b[38;5;124;43m\"\u001b[39;49m\u001b[38;5;124;43m#app > div.v-application--wrap > main > div > div > div > div:nth-child(6) > div > div.caracteristicas.mt-4.pt-4 > div:nth-child(3)\u001b[39;49m\u001b[38;5;124;43m\"\u001b[39;49m\u001b[43m)\u001b[49m\u001b[38;5;241m.\u001b[39mtext\n\u001b[0;32m     53\u001b[0m idioma \u001b[38;5;241m=\u001b[39m idioma2\u001b[38;5;241m.\u001b[39mreplace(\u001b[38;5;124m\"\u001b[39m\u001b[38;5;124mIdioma:\u001b[39m\u001b[38;5;130;01m\\n\u001b[39;00m\u001b[38;5;124m\"\u001b[39m, \u001b[38;5;124m\"\u001b[39m\u001b[38;5;124m\"\u001b[39m)\n\u001b[0;32m     54\u001b[0m \u001b[38;5;28mprint\u001b[39m(idioma)\n",
      "File \u001b[1;32m~\\AppData\\Local\\Packages\\PythonSoftwareFoundation.Python.3.9_qbz5n2kfra8p0\\LocalCache\\local-packages\\Python39\\site-packages\\selenium\\webdriver\\remote\\webdriver.py:741\u001b[0m, in \u001b[0;36mWebDriver.find_element\u001b[1;34m(self, by, value)\u001b[0m\n\u001b[0;32m    738\u001b[0m     by \u001b[38;5;241m=\u001b[39m By\u001b[38;5;241m.\u001b[39mCSS_SELECTOR\n\u001b[0;32m    739\u001b[0m     value \u001b[38;5;241m=\u001b[39m \u001b[38;5;124mf\u001b[39m\u001b[38;5;124m'\u001b[39m\u001b[38;5;124m[name=\u001b[39m\u001b[38;5;124m\"\u001b[39m\u001b[38;5;132;01m{\u001b[39;00mvalue\u001b[38;5;132;01m}\u001b[39;00m\u001b[38;5;124m\"\u001b[39m\u001b[38;5;124m]\u001b[39m\u001b[38;5;124m'\u001b[39m\n\u001b[1;32m--> 741\u001b[0m \u001b[38;5;28;01mreturn\u001b[39;00m \u001b[38;5;28;43mself\u001b[39;49m\u001b[38;5;241;43m.\u001b[39;49m\u001b[43mexecute\u001b[49m\u001b[43m(\u001b[49m\u001b[43mCommand\u001b[49m\u001b[38;5;241;43m.\u001b[39;49m\u001b[43mFIND_ELEMENT\u001b[49m\u001b[43m,\u001b[49m\u001b[43m \u001b[49m\u001b[43m{\u001b[49m\u001b[38;5;124;43m\"\u001b[39;49m\u001b[38;5;124;43musing\u001b[39;49m\u001b[38;5;124;43m\"\u001b[39;49m\u001b[43m:\u001b[49m\u001b[43m \u001b[49m\u001b[43mby\u001b[49m\u001b[43m,\u001b[49m\u001b[43m \u001b[49m\u001b[38;5;124;43m\"\u001b[39;49m\u001b[38;5;124;43mvalue\u001b[39;49m\u001b[38;5;124;43m\"\u001b[39;49m\u001b[43m:\u001b[49m\u001b[43m \u001b[49m\u001b[43mvalue\u001b[49m\u001b[43m}\u001b[49m\u001b[43m)\u001b[49m[\u001b[38;5;124m\"\u001b[39m\u001b[38;5;124mvalue\u001b[39m\u001b[38;5;124m\"\u001b[39m]\n",
      "File \u001b[1;32m~\\AppData\\Local\\Packages\\PythonSoftwareFoundation.Python.3.9_qbz5n2kfra8p0\\LocalCache\\local-packages\\Python39\\site-packages\\selenium\\webdriver\\remote\\webdriver.py:347\u001b[0m, in \u001b[0;36mWebDriver.execute\u001b[1;34m(self, driver_command, params)\u001b[0m\n\u001b[0;32m    345\u001b[0m response \u001b[38;5;241m=\u001b[39m \u001b[38;5;28mself\u001b[39m\u001b[38;5;241m.\u001b[39mcommand_executor\u001b[38;5;241m.\u001b[39mexecute(driver_command, params)\n\u001b[0;32m    346\u001b[0m \u001b[38;5;28;01mif\u001b[39;00m response:\n\u001b[1;32m--> 347\u001b[0m     \u001b[38;5;28;43mself\u001b[39;49m\u001b[38;5;241;43m.\u001b[39;49m\u001b[43merror_handler\u001b[49m\u001b[38;5;241;43m.\u001b[39;49m\u001b[43mcheck_response\u001b[49m\u001b[43m(\u001b[49m\u001b[43mresponse\u001b[49m\u001b[43m)\u001b[49m\n\u001b[0;32m    348\u001b[0m     response[\u001b[38;5;124m\"\u001b[39m\u001b[38;5;124mvalue\u001b[39m\u001b[38;5;124m\"\u001b[39m] \u001b[38;5;241m=\u001b[39m \u001b[38;5;28mself\u001b[39m\u001b[38;5;241m.\u001b[39m_unwrap_value(response\u001b[38;5;241m.\u001b[39mget(\u001b[38;5;124m\"\u001b[39m\u001b[38;5;124mvalue\u001b[39m\u001b[38;5;124m\"\u001b[39m, \u001b[38;5;28;01mNone\u001b[39;00m))\n\u001b[0;32m    349\u001b[0m     \u001b[38;5;28;01mreturn\u001b[39;00m response\n",
      "File \u001b[1;32m~\\AppData\\Local\\Packages\\PythonSoftwareFoundation.Python.3.9_qbz5n2kfra8p0\\LocalCache\\local-packages\\Python39\\site-packages\\selenium\\webdriver\\remote\\errorhandler.py:229\u001b[0m, in \u001b[0;36mErrorHandler.check_response\u001b[1;34m(self, response)\u001b[0m\n\u001b[0;32m    227\u001b[0m         alert_text \u001b[38;5;241m=\u001b[39m value[\u001b[38;5;124m\"\u001b[39m\u001b[38;5;124malert\u001b[39m\u001b[38;5;124m\"\u001b[39m]\u001b[38;5;241m.\u001b[39mget(\u001b[38;5;124m\"\u001b[39m\u001b[38;5;124mtext\u001b[39m\u001b[38;5;124m\"\u001b[39m)\n\u001b[0;32m    228\u001b[0m     \u001b[38;5;28;01mraise\u001b[39;00m exception_class(message, screen, stacktrace, alert_text)  \u001b[38;5;66;03m# type: ignore[call-arg]  # mypy is not smart enough here\u001b[39;00m\n\u001b[1;32m--> 229\u001b[0m \u001b[38;5;28;01mraise\u001b[39;00m exception_class(message, screen, stacktrace)\n",
      "\u001b[1;31mNoSuchElementException\u001b[0m: Message: no such element: Unable to locate element: {\"method\":\"css selector\",\"selector\":\"#app > div.v-application--wrap > main > div > div > div > div:nth-child(6) > div > div.caracteristicas.mt-4.pt-4 > div:nth-child(3)\"}\n  (Session info: chrome=121.0.6167.185); For documentation on this error, please visit: https://www.selenium.dev/documentation/webdriver/troubleshooting/errors#no-such-element-exception\nStacktrace:\n\tGetHandleVerifier [0x00007FF7F7A97012+3522402]\n\t(No symbol) [0x00007FF7F76B8352]\n\t(No symbol) [0x00007FF7F7565ABB]\n\t(No symbol) [0x00007FF7F75ABF0E]\n\t(No symbol) [0x00007FF7F75AC08C]\n\t(No symbol) [0x00007FF7F75EE437]\n\t(No symbol) [0x00007FF7F75CF09F]\n\t(No symbol) [0x00007FF7F75EBDA3]\n\t(No symbol) [0x00007FF7F75CEE03]\n\t(No symbol) [0x00007FF7F759F4D4]\n\t(No symbol) [0x00007FF7F75A05F1]\n\tGetHandleVerifier [0x00007FF7F7AC9B9D+3730157]\n\tGetHandleVerifier [0x00007FF7F7B1F02D+4079485]\n\tGetHandleVerifier [0x00007FF7F7B175D3+4048163]\n\tGetHandleVerifier [0x00007FF7F77EA649+718233]\n\t(No symbol) [0x00007FF7F76C4A3F]\n\t(No symbol) [0x00007FF7F76BFA94]\n\t(No symbol) [0x00007FF7F76BFBC2]\n\t(No symbol) [0x00007FF7F76AF2E4]\n\tBaseThreadInitThunk [0x00007FFF1850257D+29]\n\tRtlUserThreadStart [0x00007FFF1946AA58+40]\n"
     ]
    }
   ],
   "source": [
    "# Inicializa el navegador Chrome\n",
    "driver = webdriver.Chrome()\n",
    "\n",
    "# Navega a la página web \"https://www.casadellibro.com/\"\n",
    "driver.get(\"https://www.casadellibro.com/\")\n",
    "\n",
    "#Ampliamos ventana\n",
    "driver.maximize_window()\n",
    "\n",
    "# Espera durante 5 segundos (esto puede ser útil para permitir que la página cargue completamente)\n",
    "sleep(5)\n",
    "\n",
    "try:\n",
    "    # Rechazamos las cookies haciendo clic en el elemento con el selector CSS\n",
    "    driver.find_element(\"css selector\", \"#onetrust-reject-all-handler\").click()\n",
    "except: \n",
    "    pass \n",
    "\n",
    "\n",
    "#Seleccionamos la categoría 'ficción'\n",
    "driver.find_element(\"css selector\", \"#app > div.v-application--wrap > div.when-mobile > div.cabecera.desktop > div.bottom-row > div > div > div:nth-child(2) > a\").click()\n",
    "\n",
    "\n",
    "\n",
    "for indice in range(1,6):\n",
    "    sleep(3)\n",
    "    #Accedemos al primer libro\n",
    "    driver.find_element(\"css selector\", f\"#app > div.v-application--wrap > main > div > div > div > div:nth-child(3) > div > div:nth-child(2) > div > div.swiper > div:nth-child({indice}) > a > div > img\").click()\n",
    "\n",
    "    sleep(5)\n",
    "    #   Sacamos titulo \n",
    "    titulo = driver.find_element(\"css selector\", \"#app > div.v-application--wrap > main > div > div > div > div:nth-child(3) > div > div.col-md-5.order-lg-2.col-12.order-1 > div > h1\").text\n",
    "    print(titulo)\n",
    "\n",
    "\n",
    "    #Sacamos autor\n",
    "    autor = driver.find_element(\"css selector\", \"#app > div.v-application--wrap > main > div > div > div > div:nth-child(3) > div > div.col-md-5.order-lg-2.col-12.order-1 > div > div.text-h5.d-flex.flex-wrap.author.mb-2.justify-center.justify-sm-start > div > a > span:nth-child(1)\").text\n",
    "    print(autor)\n",
    "\n",
    "    #sacamos precio\n",
    "    precio2 = driver.find_element(\"css selector\", \"#app > div.v-application--wrap > main > div > div > div > div:nth-child(3) > div > div.border-left.col-md-4.col-12.order-3 > div > div:nth-child(3) > div.col.col-8 > strong\").text\n",
    "\n",
    "    precio1 = precio2.replace(\",\", \".\").replace(\" €\", \"\")\n",
    "    precio = float(precio1)\n",
    "    print(precio)gg\n",
    "\n",
    "    #sacamos editorial \n",
    "    editorial = driver.find_element(\"css selector\", \"#app > div.v-application--wrap > main > div > div > div > div:nth-child(3) > div > div.col-md-5.order-lg-2.col-12.order-1 > div > div.d-none.d-md-inline > div:nth-child(1) > span:nth-child(1)\").text\n",
    "    print(editorial)\n",
    "\n",
    "    #sacamos idioma \n",
    "    idioma2 = driver.find_element(\"css selector\", \"#app > div.v-application--wrap > main > div > div > div > div:nth-child(6) > div > div.caracteristicas.mt-4.pt-4 > div:nth-child(3)\").text\n",
    "    idioma = idioma2.replace(\"Idioma:\\n\", \"\")\n",
    "    print(idioma)\n",
    "\n",
    "    #sacamos numero de paginas\n",
    "    paginas2 = driver.find_element(\"css selector\", \"#app > div.v-application--wrap > main > div > div > div > div:nth-child(6) > div > div.caracteristicas.mt-4.pt-4 > div:nth-child(1)\").text\n",
    "    paginas = int(paginas2.replace(\"Nº de páginas:\", \"\"))\n",
    "    print(paginas)\n",
    "\n",
    "    driver.back()"
   ]
  },
  {
   "cell_type": "code",
   "execution_count": null,
   "metadata": {},
   "outputs": [],
   "source": [
    "\n"
   ]
  }
 ],
 "metadata": {
  "kernelspec": {
   "display_name": "Python 3",
   "language": "python",
   "name": "python3"
  },
  "language_info": {
   "codemirror_mode": {
    "name": "ipython",
    "version": 3
   },
   "file_extension": ".py",
   "mimetype": "text/x-python",
   "name": "python",
   "nbconvert_exporter": "python",
   "pygments_lexer": "ipython3",
   "version": "3.9.13"
  }
 },
 "nbformat": 4,
 "nbformat_minor": 2
}
