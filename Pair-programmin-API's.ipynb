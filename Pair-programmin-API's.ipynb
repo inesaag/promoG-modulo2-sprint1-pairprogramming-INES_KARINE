{
 "cells": [
  {
   "cell_type": "markdown",
   "metadata": {},
   "source": [
    "## Ejercicios de API's\n",
    "\n",
    "### Enunciado - Obtener datos energéticos usando la API de Red Eléctrica.\n",
    "Descripción: La empresa para la que trabajamos dispone de una base de datos que contiene información sobre el número de personas censadas en las distintas Comunidades Autónomas españolas desde 1998 hasta 2022. El objetivo es enriquecer estos datos con información sobre la generación de energía renovable y no renovable, utilizando la API de REData, la cual proporciona información sobre el mercado energético en España. Puedes encontrar la documentación de la API "
   ]
  },
  {
   "cell_type": "markdown",
   "metadata": {},
   "source": [
    "1. Extracción de Datos a Nivel Nacional:\n",
    "\n",
    "- Extraer datos de generación de energía renovable y no renovable a nivel nacional desde el 1 de enero de 2011 hasta el 31 de diciembre de 2022. La información debe ser recopilada a nivel mensual.\n",
    "- Transformar los datos para incluir una columna nueva que identifique si la energía es renovable o no renovable."
   ]
  },
  {
   "cell_type": "code",
   "execution_count": 6,
   "metadata": {},
   "outputs": [],
   "source": [
    "import requests\n",
    "\n",
    "import pandas as pd "
   ]
  },
  {
   "cell_type": "code",
   "execution_count": 104,
   "metadata": {},
   "outputs": [
    {
     "data": {
      "text/plain": [
       "200"
      ]
     },
     "execution_count": 104,
     "metadata": {},
     "output_type": "execute_result"
    }
   ],
   "source": [
    "#Url sacamos de 2011\n",
    "url = 'https://apidatos.ree.es/es/datos/generacion/estructura-generacion?start_date=2011-01-01T00:00&end_date=2011-01-31T23:59&time_trunc=month'\n",
    "\n",
    "llamada = requests.get(url)\n",
    "\n",
    "llamada.status_code"
   ]
  },
  {
   "cell_type": "code",
   "execution_count": 103,
   "metadata": {},
   "outputs": [
    {
     "name": "stdout",
     "output_type": "stream",
     "text": [
      "{'data': {'type': 'Generación por tecnología', 'id': 'gen1', 'attributes': {'title': 'Generación por tecnología', 'last-update': '2019-06-12T15:32:24.000+02:00', 'description': None}, 'meta': {'cache-control': {'cache': 'HIT', 'expireAt': '2024-03-17T09:58:16'}}}, 'included': [{'type': 'Hidráulica', 'id': '10288', 'groupId': '1', 'attributes': {'title': 'Hidráulica', 'description': None, 'color': '#0090d1', 'type': 'Renovable', 'magnitude': None, 'composite': False, 'last-update': '2019-06-12T15:32:24.000+02:00', 'values': [{'value': 5119512.38, 'percentage': 0.19757364151478785, 'datetime': '2011-01-01T00:00:00.000+01:00'}]}}, {'type': 'Turbinación bombeo', 'id': '1445', 'groupId': '1', 'attributes': {'title': 'Turbinación bombeo', 'description': None, 'color': '#007cf9', 'type': 'No-Renovable', 'magnitude': None, 'composite': False, 'last-update': '2019-06-12T15:32:24.000+02:00', 'values': [{'value': 283944.912, 'percentage': 0.01095808078765423, 'datetime': '2011-01-01T00:00:00.000+01:00'}]}}, {'type': 'Nuclear', 'id': '1446', 'groupId': '1', 'attributes': {'title': 'Nuclear', 'description': None, 'color': '#464394', 'type': 'No-Renovable', 'magnitude': None, 'composite': False, 'last-update': '2018-12-10T12:55:09.000+01:00', 'values': [{'value': 4706500.878, 'percentage': 0.18163458709303995, 'datetime': '2011-01-01T00:00:00.000+01:00'}]}}, {'type': 'Carbón', 'id': '10289', 'groupId': '1', 'attributes': {'title': 'Carbón', 'description': None, 'color': '#993300', 'type': 'No-Renovable', 'magnitude': None, 'composite': False, 'last-update': '2018-12-21T10:43:14.000+01:00', 'values': [{'value': 2303087.707, 'percentage': 0.08888139948202113, 'datetime': '2011-01-01T00:00:00.000+01:00'}]}}, {'type': 'Fuel + Gas', 'id': '10290', 'groupId': '1', 'attributes': {'title': 'Fuel + Gas', 'description': None, 'color': '#ba0f16', 'type': 'No-Renovable', 'magnitude': None, 'composite': False, 'last-update': '2018-12-10T12:55:14.000+01:00', 'values': [{'value': -751.17, 'percentage': 2.8989360954853903e-05, 'datetime': '2011-01-01T00:00:00.000+01:00'}]}}, {'type': 'Motores diésel', 'id': '10344', 'groupId': '1', 'attributes': {'title': 'Motores diésel', 'description': None, 'color': '#8DA69F', 'type': 'No-Renovable', 'magnitude': None, 'composite': False, 'last-update': '2018-12-21T10:43:15.000+01:00', 'values': [{'value': 303538.093, 'percentage': 0.011714226262397345, 'datetime': '2011-01-01T00:00:00.000+01:00'}]}}, {'type': 'Turbina de gas', 'id': '1450', 'groupId': '1', 'attributes': {'title': 'Turbina de gas', 'description': None, 'color': '#00ccff', 'type': 'No-Renovable', 'magnitude': None, 'composite': False, 'last-update': '2018-12-21T10:43:18.000+01:00', 'values': [{'value': 51506.443, 'percentage': 0.0019877509320494805, 'datetime': '2011-01-01T00:00:00.000+01:00'}]}}, {'type': 'Turbina de vapor', 'id': '1451', 'groupId': '1', 'attributes': {'title': 'Turbina de vapor', 'description': None, 'color': '#AF8E00', 'type': 'No-Renovable', 'magnitude': None, 'composite': False, 'last-update': '2018-12-10T12:55:13.000+01:00', 'values': [{'value': 239152.229, 'percentage': 0.009229429143388155, 'datetime': '2011-01-01T00:00:00.000+01:00'}]}}, {'type': 'Ciclo combinado', 'id': '1454', 'groupId': '1', 'attributes': {'title': 'Ciclo combinado', 'description': None, 'color': '#ffcc66', 'type': 'No-Renovable', 'magnitude': None, 'composite': False, 'last-update': '2018-12-21T10:43:20.000+01:00', 'values': [{'value': 5349870.116, 'percentage': 0.20646367114542666, 'datetime': '2011-01-01T00:00:00.000+01:00'}]}}, {'type': 'Eólica', 'id': '10291', 'groupId': '1', 'attributes': {'title': 'Eólica', 'description': None, 'color': '#6fb114', 'type': 'Renovable', 'magnitude': None, 'composite': False, 'last-update': '2018-12-10T12:55:16.000+01:00', 'values': [{'value': 4033540.034, 'percentage': 0.15566349557554174, 'datetime': '2011-01-01T00:00:00.000+01:00'}]}}, {'type': 'Solar fotovoltaica', 'id': '1458', 'groupId': '1', 'attributes': {'title': 'Solar fotovoltaica', 'description': None, 'color': '#e48500', 'type': 'Renovable', 'magnitude': None, 'composite': False, 'last-update': '2018-12-10T12:55:17.000+01:00', 'values': [{'value': 351257.042, 'percentage': 0.013555809175649027, 'datetime': '2011-01-01T00:00:00.000+01:00'}]}}, {'type': 'Solar térmica', 'id': '1459', 'groupId': '1', 'attributes': {'title': 'Solar térmica', 'description': None, 'color': '#ff0000', 'type': 'Renovable', 'magnitude': None, 'composite': False, 'last-update': '2018-12-10T12:55:18.000+01:00', 'values': [{'value': 39743.13, 'percentage': 0.0015337778945454196, 'datetime': '2011-01-01T00:00:00.000+01:00'}]}}, {'type': 'Otras renovables', 'id': '10292', 'groupId': '1', 'attributes': {'title': 'Otras renovables', 'description': None, 'color': '#9a5cbc', 'type': 'Renovable', 'magnitude': None, 'composite': False, 'last-update': '2018-12-10T12:55:21.000+01:00', 'values': [{'value': 309539.414, 'percentage': 0.011945830906718797, 'datetime': '2011-01-01T00:00:00.000+01:00'}]}}, {'type': 'Cogeneración', 'id': '10293', 'groupId': '1', 'attributes': {'title': 'Cogeneración', 'description': None, 'color': '#cfa2ca', 'type': 'No-Renovable', 'magnitude': None, 'composite': False, 'last-update': '2018-12-10T12:55:24.000+01:00', 'values': [{'value': 2641333.29, 'percentage': 0.1019350668235976, 'datetime': '2011-01-01T00:00:00.000+01:00'}]}}, {'type': 'Residuos no renovables', 'id': '10294', 'groupId': '1', 'attributes': {'title': 'Residuos no renovables', 'description': None, 'color': '#666666', 'type': 'No-Renovable', 'magnitude': None, 'composite': False, 'last-update': '2018-12-10T12:55:27.000+01:00', 'values': [{'value': 113966.56, 'percentage': 0.0043982290887855146, 'datetime': '2011-01-01T00:00:00.000+01:00'}]}}, {'type': 'Residuos renovables', 'id': '10295', 'groupId': '1', 'attributes': {'title': 'Residuos renovables', 'description': None, 'color': '#a0a0a0', 'type': 'Renovable', 'magnitude': None, 'composite': False, 'last-update': '2018-12-10T12:55:25.000+01:00', 'values': [{'value': 64676.536, 'percentage': 0.0024960148134425004, 'datetime': '2011-01-01T00:00:00.000+01:00'}]}}, {'type': 'Generación total', 'id': '1', 'groupId': '1', 'attributes': {'title': 'Generación total', 'description': None, 'color': '#2b2e34', 'type': 'Generación total', 'magnitude': None, 'composite': True, 'last-update': '2019-06-12T15:32:24.000+02:00', 'values': [{'value': 25910417.593999997, 'percentage': 1, 'datetime': '2011-01-01T00:00:00.000+01:00'}]}}]}\n"
     ]
    }
   ],
   "source": [
    "if llamada.status_code == 200:\n",
    "    energias = llamada.json()\n",
    "    print(energias)\n",
    "else:\n",
    "    print(\"Error al obtener los datos de la API\")\n"
   ]
  },
  {
   "cell_type": "code",
   "execution_count": 75,
   "metadata": {},
   "outputs": [
    {
     "data": {
      "text/plain": [
       "{'data': {'type': 'Generación por tecnología',\n",
       "  'id': 'gen1',\n",
       "  'attributes': {'title': 'Generación por tecnología',\n",
       "   'last-update': '2019-06-12T15:32:24.000+02:00',\n",
       "   'description': None},\n",
       "  'meta': {'cache-control': {'cache': 'HIT',\n",
       "    'expireAt': '2024-03-17T09:58:16'}}},\n",
       " 'included': [{'type': 'Hidráulica',\n",
       "   'id': '10288',\n",
       "   'groupId': '1',\n",
       "   'attributes': {'title': 'Hidráulica',\n",
       "    'description': None,\n",
       "    'color': '#0090d1',\n",
       "    'type': 'Renovable',\n",
       "    'magnitude': None,\n",
       "    'composite': False,\n",
       "    'last-update': '2019-06-12T15:32:24.000+02:00',\n",
       "    'values': [{'value': 5119512.38,\n",
       "      'percentage': 0.19757364151478785,\n",
       "      'datetime': '2011-01-01T00:00:00.000+01:00'}]}},\n",
       "  {'type': 'Turbinación bombeo',\n",
       "   'id': '1445',\n",
       "   'groupId': '1',\n",
       "   'attributes': {'title': 'Turbinación bombeo',\n",
       "    'description': None,\n",
       "    'color': '#007cf9',\n",
       "    'type': 'No-Renovable',\n",
       "    'magnitude': None,\n",
       "    'composite': False,\n",
       "    'last-update': '2019-06-12T15:32:24.000+02:00',\n",
       "    'values': [{'value': 283944.912,\n",
       "      'percentage': 0.01095808078765423,\n",
       "      'datetime': '2011-01-01T00:00:00.000+01:00'}]}},\n",
       "  {'type': 'Nuclear',\n",
       "   'id': '1446',\n",
       "   'groupId': '1',\n",
       "   'attributes': {'title': 'Nuclear',\n",
       "    'description': None,\n",
       "    'color': '#464394',\n",
       "    'type': 'No-Renovable',\n",
       "    'magnitude': None,\n",
       "    'composite': False,\n",
       "    'last-update': '2018-12-10T12:55:09.000+01:00',\n",
       "    'values': [{'value': 4706500.878,\n",
       "      'percentage': 0.18163458709303995,\n",
       "      'datetime': '2011-01-01T00:00:00.000+01:00'}]}},\n",
       "  {'type': 'Carbón',\n",
       "   'id': '10289',\n",
       "   'groupId': '1',\n",
       "   'attributes': {'title': 'Carbón',\n",
       "    'description': None,\n",
       "    'color': '#993300',\n",
       "    'type': 'No-Renovable',\n",
       "    'magnitude': None,\n",
       "    'composite': False,\n",
       "    'last-update': '2018-12-21T10:43:14.000+01:00',\n",
       "    'values': [{'value': 2303087.707,\n",
       "      'percentage': 0.08888139948202113,\n",
       "      'datetime': '2011-01-01T00:00:00.000+01:00'}]}},\n",
       "  {'type': 'Fuel + Gas',\n",
       "   'id': '10290',\n",
       "   'groupId': '1',\n",
       "   'attributes': {'title': 'Fuel + Gas',\n",
       "    'description': None,\n",
       "    'color': '#ba0f16',\n",
       "    'type': 'No-Renovable',\n",
       "    'magnitude': None,\n",
       "    'composite': False,\n",
       "    'last-update': '2018-12-10T12:55:14.000+01:00',\n",
       "    'values': [{'value': -751.17,\n",
       "      'percentage': 2.8989360954853903e-05,\n",
       "      'datetime': '2011-01-01T00:00:00.000+01:00'}]}},\n",
       "  {'type': 'Motores diésel',\n",
       "   'id': '10344',\n",
       "   'groupId': '1',\n",
       "   'attributes': {'title': 'Motores diésel',\n",
       "    'description': None,\n",
       "    'color': '#8DA69F',\n",
       "    'type': 'No-Renovable',\n",
       "    'magnitude': None,\n",
       "    'composite': False,\n",
       "    'last-update': '2018-12-21T10:43:15.000+01:00',\n",
       "    'values': [{'value': 303538.093,\n",
       "      'percentage': 0.011714226262397345,\n",
       "      'datetime': '2011-01-01T00:00:00.000+01:00'}]}},\n",
       "  {'type': 'Turbina de gas',\n",
       "   'id': '1450',\n",
       "   'groupId': '1',\n",
       "   'attributes': {'title': 'Turbina de gas',\n",
       "    'description': None,\n",
       "    'color': '#00ccff',\n",
       "    'type': 'No-Renovable',\n",
       "    'magnitude': None,\n",
       "    'composite': False,\n",
       "    'last-update': '2018-12-21T10:43:18.000+01:00',\n",
       "    'values': [{'value': 51506.443,\n",
       "      'percentage': 0.0019877509320494805,\n",
       "      'datetime': '2011-01-01T00:00:00.000+01:00'}]}},\n",
       "  {'type': 'Turbina de vapor',\n",
       "   'id': '1451',\n",
       "   'groupId': '1',\n",
       "   'attributes': {'title': 'Turbina de vapor',\n",
       "    'description': None,\n",
       "    'color': '#AF8E00',\n",
       "    'type': 'No-Renovable',\n",
       "    'magnitude': None,\n",
       "    'composite': False,\n",
       "    'last-update': '2018-12-10T12:55:13.000+01:00',\n",
       "    'values': [{'value': 239152.229,\n",
       "      'percentage': 0.009229429143388155,\n",
       "      'datetime': '2011-01-01T00:00:00.000+01:00'}]}},\n",
       "  {'type': 'Ciclo combinado',\n",
       "   'id': '1454',\n",
       "   'groupId': '1',\n",
       "   'attributes': {'title': 'Ciclo combinado',\n",
       "    'description': None,\n",
       "    'color': '#ffcc66',\n",
       "    'type': 'No-Renovable',\n",
       "    'magnitude': None,\n",
       "    'composite': False,\n",
       "    'last-update': '2018-12-21T10:43:20.000+01:00',\n",
       "    'values': [{'value': 5349870.116,\n",
       "      'percentage': 0.20646367114542666,\n",
       "      'datetime': '2011-01-01T00:00:00.000+01:00'}]}},\n",
       "  {'type': 'Eólica',\n",
       "   'id': '10291',\n",
       "   'groupId': '1',\n",
       "   'attributes': {'title': 'Eólica',\n",
       "    'description': None,\n",
       "    'color': '#6fb114',\n",
       "    'type': 'Renovable',\n",
       "    'magnitude': None,\n",
       "    'composite': False,\n",
       "    'last-update': '2018-12-10T12:55:16.000+01:00',\n",
       "    'values': [{'value': 4033540.034,\n",
       "      'percentage': 0.15566349557554174,\n",
       "      'datetime': '2011-01-01T00:00:00.000+01:00'}]}},\n",
       "  {'type': 'Solar fotovoltaica',\n",
       "   'id': '1458',\n",
       "   'groupId': '1',\n",
       "   'attributes': {'title': 'Solar fotovoltaica',\n",
       "    'description': None,\n",
       "    'color': '#e48500',\n",
       "    'type': 'Renovable',\n",
       "    'magnitude': None,\n",
       "    'composite': False,\n",
       "    'last-update': '2018-12-10T12:55:17.000+01:00',\n",
       "    'values': [{'value': 351257.042,\n",
       "      'percentage': 0.013555809175649027,\n",
       "      'datetime': '2011-01-01T00:00:00.000+01:00'}]}},\n",
       "  {'type': 'Solar térmica',\n",
       "   'id': '1459',\n",
       "   'groupId': '1',\n",
       "   'attributes': {'title': 'Solar térmica',\n",
       "    'description': None,\n",
       "    'color': '#ff0000',\n",
       "    'type': 'Renovable',\n",
       "    'magnitude': None,\n",
       "    'composite': False,\n",
       "    'last-update': '2018-12-10T12:55:18.000+01:00',\n",
       "    'values': [{'value': 39743.13,\n",
       "      'percentage': 0.0015337778945454196,\n",
       "      'datetime': '2011-01-01T00:00:00.000+01:00'}]}},\n",
       "  {'type': 'Otras renovables',\n",
       "   'id': '10292',\n",
       "   'groupId': '1',\n",
       "   'attributes': {'title': 'Otras renovables',\n",
       "    'description': None,\n",
       "    'color': '#9a5cbc',\n",
       "    'type': 'Renovable',\n",
       "    'magnitude': None,\n",
       "    'composite': False,\n",
       "    'last-update': '2018-12-10T12:55:21.000+01:00',\n",
       "    'values': [{'value': 309539.414,\n",
       "      'percentage': 0.011945830906718797,\n",
       "      'datetime': '2011-01-01T00:00:00.000+01:00'}]}},\n",
       "  {'type': 'Cogeneración',\n",
       "   'id': '10293',\n",
       "   'groupId': '1',\n",
       "   'attributes': {'title': 'Cogeneración',\n",
       "    'description': None,\n",
       "    'color': '#cfa2ca',\n",
       "    'type': 'No-Renovable',\n",
       "    'magnitude': None,\n",
       "    'composite': False,\n",
       "    'last-update': '2018-12-10T12:55:24.000+01:00',\n",
       "    'values': [{'value': 2641333.29,\n",
       "      'percentage': 0.1019350668235976,\n",
       "      'datetime': '2011-01-01T00:00:00.000+01:00'}]}},\n",
       "  {'type': 'Residuos no renovables',\n",
       "   'id': '10294',\n",
       "   'groupId': '1',\n",
       "   'attributes': {'title': 'Residuos no renovables',\n",
       "    'description': None,\n",
       "    'color': '#666666',\n",
       "    'type': 'No-Renovable',\n",
       "    'magnitude': None,\n",
       "    'composite': False,\n",
       "    'last-update': '2018-12-10T12:55:27.000+01:00',\n",
       "    'values': [{'value': 113966.56,\n",
       "      'percentage': 0.0043982290887855146,\n",
       "      'datetime': '2011-01-01T00:00:00.000+01:00'}]}},\n",
       "  {'type': 'Residuos renovables',\n",
       "   'id': '10295',\n",
       "   'groupId': '1',\n",
       "   'attributes': {'title': 'Residuos renovables',\n",
       "    'description': None,\n",
       "    'color': '#a0a0a0',\n",
       "    'type': 'Renovable',\n",
       "    'magnitude': None,\n",
       "    'composite': False,\n",
       "    'last-update': '2018-12-10T12:55:25.000+01:00',\n",
       "    'values': [{'value': 64676.536,\n",
       "      'percentage': 0.0024960148134425004,\n",
       "      'datetime': '2011-01-01T00:00:00.000+01:00'}]}},\n",
       "  {'type': 'Generación total',\n",
       "   'id': '1',\n",
       "   'groupId': '1',\n",
       "   'attributes': {'title': 'Generación total',\n",
       "    'description': None,\n",
       "    'color': '#2b2e34',\n",
       "    'type': 'Generación total',\n",
       "    'magnitude': None,\n",
       "    'composite': True,\n",
       "    'last-update': '2019-06-12T15:32:24.000+02:00',\n",
       "    'values': [{'value': 25910417.593999997,\n",
       "      'percentage': 1,\n",
       "      'datetime': '2011-01-01T00:00:00.000+01:00'}]}}]}"
      ]
     },
     "execution_count": 75,
     "metadata": {},
     "output_type": "execute_result"
    }
   ],
   "source": [
    "energias"
   ]
  },
  {
   "cell_type": "code",
   "execution_count": 76,
   "metadata": {},
   "outputs": [
    {
     "data": {
      "text/plain": [
       "dict_keys(['data', 'included'])"
      ]
     },
     "execution_count": 76,
     "metadata": {},
     "output_type": "execute_result"
    }
   ],
   "source": [
    "#Comprobamos claves \n",
    "energias.keys()    "
   ]
  },
  {
   "cell_type": "code",
   "execution_count": 106,
   "metadata": {},
   "outputs": [
    {
     "name": "stdout",
     "output_type": "stream",
     "text": [
      "[{'type': 'Hidráulica', 'id': '10288', 'groupId': '1', 'attributes': {'title': 'Hidráulica', 'description': None, 'color': '#0090d1', 'type': 'Renovable', 'magnitude': None, 'composite': False, 'last-update': '2019-06-12T15:32:24.000+02:00', 'values': [{'value': 5119512.38, 'percentage': 0.19757364151478785, 'datetime': '2011-01-01T00:00:00.000+01:00'}]}}, {'type': 'Turbinación bombeo', 'id': '1445', 'groupId': '1', 'attributes': {'title': 'Turbinación bombeo', 'description': None, 'color': '#007cf9', 'type': 'No-Renovable', 'magnitude': None, 'composite': False, 'last-update': '2019-06-12T15:32:24.000+02:00', 'values': [{'value': 283944.912, 'percentage': 0.01095808078765423, 'datetime': '2011-01-01T00:00:00.000+01:00'}]}}, {'type': 'Nuclear', 'id': '1446', 'groupId': '1', 'attributes': {'title': 'Nuclear', 'description': None, 'color': '#464394', 'type': 'No-Renovable', 'magnitude': None, 'composite': False, 'last-update': '2018-12-10T12:55:09.000+01:00', 'values': [{'value': 4706500.878, 'percentage': 0.18163458709303995, 'datetime': '2011-01-01T00:00:00.000+01:00'}]}}, {'type': 'Carbón', 'id': '10289', 'groupId': '1', 'attributes': {'title': 'Carbón', 'description': None, 'color': '#993300', 'type': 'No-Renovable', 'magnitude': None, 'composite': False, 'last-update': '2018-12-21T10:43:14.000+01:00', 'values': [{'value': 2303087.707, 'percentage': 0.08888139948202113, 'datetime': '2011-01-01T00:00:00.000+01:00'}]}}, {'type': 'Fuel + Gas', 'id': '10290', 'groupId': '1', 'attributes': {'title': 'Fuel + Gas', 'description': None, 'color': '#ba0f16', 'type': 'No-Renovable', 'magnitude': None, 'composite': False, 'last-update': '2018-12-10T12:55:14.000+01:00', 'values': [{'value': -751.17, 'percentage': 2.8989360954853903e-05, 'datetime': '2011-01-01T00:00:00.000+01:00'}]}}, {'type': 'Motores diésel', 'id': '10344', 'groupId': '1', 'attributes': {'title': 'Motores diésel', 'description': None, 'color': '#8DA69F', 'type': 'No-Renovable', 'magnitude': None, 'composite': False, 'last-update': '2018-12-21T10:43:15.000+01:00', 'values': [{'value': 303538.093, 'percentage': 0.011714226262397345, 'datetime': '2011-01-01T00:00:00.000+01:00'}]}}, {'type': 'Turbina de gas', 'id': '1450', 'groupId': '1', 'attributes': {'title': 'Turbina de gas', 'description': None, 'color': '#00ccff', 'type': 'No-Renovable', 'magnitude': None, 'composite': False, 'last-update': '2018-12-21T10:43:18.000+01:00', 'values': [{'value': 51506.443, 'percentage': 0.0019877509320494805, 'datetime': '2011-01-01T00:00:00.000+01:00'}]}}, {'type': 'Turbina de vapor', 'id': '1451', 'groupId': '1', 'attributes': {'title': 'Turbina de vapor', 'description': None, 'color': '#AF8E00', 'type': 'No-Renovable', 'magnitude': None, 'composite': False, 'last-update': '2018-12-10T12:55:13.000+01:00', 'values': [{'value': 239152.229, 'percentage': 0.009229429143388155, 'datetime': '2011-01-01T00:00:00.000+01:00'}]}}, {'type': 'Ciclo combinado', 'id': '1454', 'groupId': '1', 'attributes': {'title': 'Ciclo combinado', 'description': None, 'color': '#ffcc66', 'type': 'No-Renovable', 'magnitude': None, 'composite': False, 'last-update': '2018-12-21T10:43:20.000+01:00', 'values': [{'value': 5349870.116, 'percentage': 0.20646367114542666, 'datetime': '2011-01-01T00:00:00.000+01:00'}]}}, {'type': 'Eólica', 'id': '10291', 'groupId': '1', 'attributes': {'title': 'Eólica', 'description': None, 'color': '#6fb114', 'type': 'Renovable', 'magnitude': None, 'composite': False, 'last-update': '2018-12-10T12:55:16.000+01:00', 'values': [{'value': 4033540.034, 'percentage': 0.15566349557554174, 'datetime': '2011-01-01T00:00:00.000+01:00'}]}}, {'type': 'Solar fotovoltaica', 'id': '1458', 'groupId': '1', 'attributes': {'title': 'Solar fotovoltaica', 'description': None, 'color': '#e48500', 'type': 'Renovable', 'magnitude': None, 'composite': False, 'last-update': '2018-12-10T12:55:17.000+01:00', 'values': [{'value': 351257.042, 'percentage': 0.013555809175649027, 'datetime': '2011-01-01T00:00:00.000+01:00'}]}}, {'type': 'Solar térmica', 'id': '1459', 'groupId': '1', 'attributes': {'title': 'Solar térmica', 'description': None, 'color': '#ff0000', 'type': 'Renovable', 'magnitude': None, 'composite': False, 'last-update': '2018-12-10T12:55:18.000+01:00', 'values': [{'value': 39743.13, 'percentage': 0.0015337778945454196, 'datetime': '2011-01-01T00:00:00.000+01:00'}]}}, {'type': 'Otras renovables', 'id': '10292', 'groupId': '1', 'attributes': {'title': 'Otras renovables', 'description': None, 'color': '#9a5cbc', 'type': 'Renovable', 'magnitude': None, 'composite': False, 'last-update': '2018-12-10T12:55:21.000+01:00', 'values': [{'value': 309539.414, 'percentage': 0.011945830906718797, 'datetime': '2011-01-01T00:00:00.000+01:00'}]}}, {'type': 'Cogeneración', 'id': '10293', 'groupId': '1', 'attributes': {'title': 'Cogeneración', 'description': None, 'color': '#cfa2ca', 'type': 'No-Renovable', 'magnitude': None, 'composite': False, 'last-update': '2018-12-10T12:55:24.000+01:00', 'values': [{'value': 2641333.29, 'percentage': 0.1019350668235976, 'datetime': '2011-01-01T00:00:00.000+01:00'}]}}, {'type': 'Residuos no renovables', 'id': '10294', 'groupId': '1', 'attributes': {'title': 'Residuos no renovables', 'description': None, 'color': '#666666', 'type': 'No-Renovable', 'magnitude': None, 'composite': False, 'last-update': '2018-12-10T12:55:27.000+01:00', 'values': [{'value': 113966.56, 'percentage': 0.0043982290887855146, 'datetime': '2011-01-01T00:00:00.000+01:00'}]}}, {'type': 'Residuos renovables', 'id': '10295', 'groupId': '1', 'attributes': {'title': 'Residuos renovables', 'description': None, 'color': '#a0a0a0', 'type': 'Renovable', 'magnitude': None, 'composite': False, 'last-update': '2018-12-10T12:55:25.000+01:00', 'values': [{'value': 64676.536, 'percentage': 0.0024960148134425004, 'datetime': '2011-01-01T00:00:00.000+01:00'}]}}, {'type': 'Generación total', 'id': '1', 'groupId': '1', 'attributes': {'title': 'Generación total', 'description': None, 'color': '#2b2e34', 'type': 'Generación total', 'magnitude': None, 'composite': True, 'last-update': '2019-06-12T15:32:24.000+02:00', 'values': [{'value': 25910417.593999997, 'percentage': 1, 'datetime': '2011-01-01T00:00:00.000+01:00'}]}}]\n"
     ]
    }
   ],
   "source": [
    "energia_1 = energias['included']\n",
    "print(energia_1)"
   ]
  },
  {
   "cell_type": "code",
   "execution_count": 98,
   "metadata": {},
   "outputs": [
    {
     "data": {
      "text/plain": [
       "17"
      ]
     },
     "execution_count": 98,
     "metadata": {},
     "output_type": "execute_result"
    }
   ],
   "source": [
    "#Comprobamos el número de elemntos en diccionario 'included'\n",
    "len(energia_1)"
   ]
  },
  {
   "cell_type": "code",
   "execution_count": 85,
   "metadata": {},
   "outputs": [
    {
     "data": {
      "text/plain": [
       "dict_keys(['type', 'id', 'groupId', 'attributes'])"
      ]
     },
     "execution_count": 85,
     "metadata": {},
     "output_type": "execute_result"
    }
   ],
   "source": [
    "energia_1.keys()"
   ]
  },
  {
   "cell_type": "code",
   "execution_count": 57,
   "metadata": {},
   "outputs": [],
   "source": [
    "generacion_renovable = data['included'][0]['attributes']['type']\n",
    "energia = data['included'][0]['type']\n",
    "fecha = data['included'][0]['attributes']['values'][0]['datetime']\n",
    "valor = data['included'][0]['attributes']['values'][0]['value']"
   ]
  },
  {
   "cell_type": "code",
   "execution_count": 110,
   "metadata": {},
   "outputs": [
    {
     "name": "stdout",
     "output_type": "stream",
     "text": [
      "Generación total\n",
      "-------------------------\n",
      "Generación total\n",
      "-------------------------\n",
      "2011-01-01T00:00:00.000+01:00\n",
      "-------------------------\n",
      "25910417.593999997\n"
     ]
    }
   ],
   "source": [
    "print(generacion_renovable)\n",
    "print('-------------------------')\n",
    "print(energia)\n",
    "print('-------------------------')\n",
    "print(fecha)\n",
    "print('-------------------------')\n",
    "print(valor) "
   ]
  },
  {
   "cell_type": "code",
   "execution_count": 114,
   "metadata": {},
   "outputs": [
    {
     "name": "stdout",
     "output_type": "stream",
     "text": [
      "{'tipo energia': ['Hidráulica', 'Turbinación bombeo', 'Nuclear', 'Carbón', 'Fuel + Gas', 'Motores diésel', 'Turbina de gas', 'Turbina de vapor', 'Ciclo combinado', 'Eólica', 'Solar fotovoltaica', 'Solar térmica', 'Otras renovables', 'Cogeneración', 'Residuos no renovables', 'Residuos renovables', 'Generación total'], 'tipo generacion': ['Renovable', 'No-Renovable', 'No-Renovable', 'No-Renovable', 'No-Renovable', 'No-Renovable', 'No-Renovable', 'No-Renovable', 'No-Renovable', 'Renovable', 'Renovable', 'Renovable', 'Renovable', 'No-Renovable', 'No-Renovable', 'Renovable', 'Generación total'], 'fecha': ['2011-01-01T00:00:00.000+01:00', '2011-01-01T00:00:00.000+01:00', '2011-01-01T00:00:00.000+01:00', '2011-01-01T00:00:00.000+01:00', '2011-01-01T00:00:00.000+01:00', '2011-01-01T00:00:00.000+01:00', '2011-01-01T00:00:00.000+01:00', '2011-01-01T00:00:00.000+01:00', '2011-01-01T00:00:00.000+01:00', '2011-01-01T00:00:00.000+01:00', '2011-01-01T00:00:00.000+01:00', '2011-01-01T00:00:00.000+01:00', '2011-01-01T00:00:00.000+01:00', '2011-01-01T00:00:00.000+01:00', '2011-01-01T00:00:00.000+01:00', '2011-01-01T00:00:00.000+01:00', '2011-01-01T00:00:00.000+01:00'], 'valor': [5119512.38, 283944.912, 4706500.878, 2303087.707, -751.17, 303538.093, 51506.443, 239152.229, 5349870.116, 4033540.034, 351257.042, 39743.13, 309539.414, 2641333.29, 113966.56, 64676.536, 25910417.593999997]}\n"
     ]
    }
   ],
   "source": [
    "tipo_energia = []\n",
    "tipo_generacion = []\n",
    "fecha_lista = []\n",
    "valor_lista = []\n",
    "diccionario = {'tipo energia' : tipo_energia, 'tipo generacion' : tipo_generacion, 'fecha' : fecha_lista, 'valor' : valor_lista }\n",
    "\n",
    "for numero in range(0, 17):\n",
    "    generacion_renovable = data['included'][numero]['attributes']['type']\n",
    "    fecha = data['included'][numero]['attributes']['values'][0]['datetime']\n",
    "    valor = data['included'][numero]['attributes']['values'][0]['value']\n",
    "    energia = data['included'][numero]['type']\n",
    "    tipo_energia.append(energia)\n",
    "    tipo_generacion.append(generacion_renovable)\n",
    "    fecha_lista.append(fecha)\n",
    "    valor_lista.append(valor)\n",
    "    \n",
    "print(diccionario)"
   ]
  },
  {
   "cell_type": "code",
   "execution_count": 116,
   "metadata": {},
   "outputs": [
    {
     "data": {
      "text/html": [
       "<div>\n",
       "<style scoped>\n",
       "    .dataframe tbody tr th:only-of-type {\n",
       "        vertical-align: middle;\n",
       "    }\n",
       "\n",
       "    .dataframe tbody tr th {\n",
       "        vertical-align: top;\n",
       "    }\n",
       "\n",
       "    .dataframe thead th {\n",
       "        text-align: right;\n",
       "    }\n",
       "</style>\n",
       "<table border=\"1\" class=\"dataframe\">\n",
       "  <thead>\n",
       "    <tr style=\"text-align: right;\">\n",
       "      <th></th>\n",
       "      <th>tipo energia</th>\n",
       "      <th>tipo generacion</th>\n",
       "      <th>fecha</th>\n",
       "      <th>valor</th>\n",
       "    </tr>\n",
       "  </thead>\n",
       "  <tbody>\n",
       "    <tr>\n",
       "      <th>0</th>\n",
       "      <td>Hidráulica</td>\n",
       "      <td>Renovable</td>\n",
       "      <td>2011-01-01T00:00:00.000+01:00</td>\n",
       "      <td>5.119512e+06</td>\n",
       "    </tr>\n",
       "    <tr>\n",
       "      <th>1</th>\n",
       "      <td>Turbinación bombeo</td>\n",
       "      <td>No-Renovable</td>\n",
       "      <td>2011-01-01T00:00:00.000+01:00</td>\n",
       "      <td>2.839449e+05</td>\n",
       "    </tr>\n",
       "    <tr>\n",
       "      <th>2</th>\n",
       "      <td>Nuclear</td>\n",
       "      <td>No-Renovable</td>\n",
       "      <td>2011-01-01T00:00:00.000+01:00</td>\n",
       "      <td>4.706501e+06</td>\n",
       "    </tr>\n",
       "    <tr>\n",
       "      <th>3</th>\n",
       "      <td>Carbón</td>\n",
       "      <td>No-Renovable</td>\n",
       "      <td>2011-01-01T00:00:00.000+01:00</td>\n",
       "      <td>2.303088e+06</td>\n",
       "    </tr>\n",
       "    <tr>\n",
       "      <th>4</th>\n",
       "      <td>Fuel + Gas</td>\n",
       "      <td>No-Renovable</td>\n",
       "      <td>2011-01-01T00:00:00.000+01:00</td>\n",
       "      <td>-7.511700e+02</td>\n",
       "    </tr>\n",
       "    <tr>\n",
       "      <th>5</th>\n",
       "      <td>Motores diésel</td>\n",
       "      <td>No-Renovable</td>\n",
       "      <td>2011-01-01T00:00:00.000+01:00</td>\n",
       "      <td>3.035381e+05</td>\n",
       "    </tr>\n",
       "    <tr>\n",
       "      <th>6</th>\n",
       "      <td>Turbina de gas</td>\n",
       "      <td>No-Renovable</td>\n",
       "      <td>2011-01-01T00:00:00.000+01:00</td>\n",
       "      <td>5.150644e+04</td>\n",
       "    </tr>\n",
       "    <tr>\n",
       "      <th>7</th>\n",
       "      <td>Turbina de vapor</td>\n",
       "      <td>No-Renovable</td>\n",
       "      <td>2011-01-01T00:00:00.000+01:00</td>\n",
       "      <td>2.391522e+05</td>\n",
       "    </tr>\n",
       "    <tr>\n",
       "      <th>8</th>\n",
       "      <td>Ciclo combinado</td>\n",
       "      <td>No-Renovable</td>\n",
       "      <td>2011-01-01T00:00:00.000+01:00</td>\n",
       "      <td>5.349870e+06</td>\n",
       "    </tr>\n",
       "    <tr>\n",
       "      <th>9</th>\n",
       "      <td>Eólica</td>\n",
       "      <td>Renovable</td>\n",
       "      <td>2011-01-01T00:00:00.000+01:00</td>\n",
       "      <td>4.033540e+06</td>\n",
       "    </tr>\n",
       "    <tr>\n",
       "      <th>10</th>\n",
       "      <td>Solar fotovoltaica</td>\n",
       "      <td>Renovable</td>\n",
       "      <td>2011-01-01T00:00:00.000+01:00</td>\n",
       "      <td>3.512570e+05</td>\n",
       "    </tr>\n",
       "    <tr>\n",
       "      <th>11</th>\n",
       "      <td>Solar térmica</td>\n",
       "      <td>Renovable</td>\n",
       "      <td>2011-01-01T00:00:00.000+01:00</td>\n",
       "      <td>3.974313e+04</td>\n",
       "    </tr>\n",
       "    <tr>\n",
       "      <th>12</th>\n",
       "      <td>Otras renovables</td>\n",
       "      <td>Renovable</td>\n",
       "      <td>2011-01-01T00:00:00.000+01:00</td>\n",
       "      <td>3.095394e+05</td>\n",
       "    </tr>\n",
       "    <tr>\n",
       "      <th>13</th>\n",
       "      <td>Cogeneración</td>\n",
       "      <td>No-Renovable</td>\n",
       "      <td>2011-01-01T00:00:00.000+01:00</td>\n",
       "      <td>2.641333e+06</td>\n",
       "    </tr>\n",
       "    <tr>\n",
       "      <th>14</th>\n",
       "      <td>Residuos no renovables</td>\n",
       "      <td>No-Renovable</td>\n",
       "      <td>2011-01-01T00:00:00.000+01:00</td>\n",
       "      <td>1.139666e+05</td>\n",
       "    </tr>\n",
       "    <tr>\n",
       "      <th>15</th>\n",
       "      <td>Residuos renovables</td>\n",
       "      <td>Renovable</td>\n",
       "      <td>2011-01-01T00:00:00.000+01:00</td>\n",
       "      <td>6.467654e+04</td>\n",
       "    </tr>\n",
       "    <tr>\n",
       "      <th>16</th>\n",
       "      <td>Generación total</td>\n",
       "      <td>Generación total</td>\n",
       "      <td>2011-01-01T00:00:00.000+01:00</td>\n",
       "      <td>2.591042e+07</td>\n",
       "    </tr>\n",
       "  </tbody>\n",
       "</table>\n",
       "</div>"
      ],
      "text/plain": [
       "              tipo energia   tipo generacion                          fecha  \\\n",
       "0               Hidráulica         Renovable  2011-01-01T00:00:00.000+01:00   \n",
       "1       Turbinación bombeo      No-Renovable  2011-01-01T00:00:00.000+01:00   \n",
       "2                  Nuclear      No-Renovable  2011-01-01T00:00:00.000+01:00   \n",
       "3                   Carbón      No-Renovable  2011-01-01T00:00:00.000+01:00   \n",
       "4               Fuel + Gas      No-Renovable  2011-01-01T00:00:00.000+01:00   \n",
       "5           Motores diésel      No-Renovable  2011-01-01T00:00:00.000+01:00   \n",
       "6           Turbina de gas      No-Renovable  2011-01-01T00:00:00.000+01:00   \n",
       "7         Turbina de vapor      No-Renovable  2011-01-01T00:00:00.000+01:00   \n",
       "8          Ciclo combinado      No-Renovable  2011-01-01T00:00:00.000+01:00   \n",
       "9                   Eólica         Renovable  2011-01-01T00:00:00.000+01:00   \n",
       "10      Solar fotovoltaica         Renovable  2011-01-01T00:00:00.000+01:00   \n",
       "11           Solar térmica         Renovable  2011-01-01T00:00:00.000+01:00   \n",
       "12        Otras renovables         Renovable  2011-01-01T00:00:00.000+01:00   \n",
       "13            Cogeneración      No-Renovable  2011-01-01T00:00:00.000+01:00   \n",
       "14  Residuos no renovables      No-Renovable  2011-01-01T00:00:00.000+01:00   \n",
       "15     Residuos renovables         Renovable  2011-01-01T00:00:00.000+01:00   \n",
       "16        Generación total  Generación total  2011-01-01T00:00:00.000+01:00   \n",
       "\n",
       "           valor  \n",
       "0   5.119512e+06  \n",
       "1   2.839449e+05  \n",
       "2   4.706501e+06  \n",
       "3   2.303088e+06  \n",
       "4  -7.511700e+02  \n",
       "5   3.035381e+05  \n",
       "6   5.150644e+04  \n",
       "7   2.391522e+05  \n",
       "8   5.349870e+06  \n",
       "9   4.033540e+06  \n",
       "10  3.512570e+05  \n",
       "11  3.974313e+04  \n",
       "12  3.095394e+05  \n",
       "13  2.641333e+06  \n",
       "14  1.139666e+05  \n",
       "15  6.467654e+04  \n",
       "16  2.591042e+07  "
      ]
     },
     "execution_count": 116,
     "metadata": {},
     "output_type": "execute_result"
    }
   ],
   "source": [
    "df_energias = pd.DataFrame(diccionario)\n",
    "df_energias"
   ]
  },
  {
   "cell_type": "markdown",
   "metadata": {},
   "source": [
    "2. Extracción de Datos por Comunidad Autónoma:\n",
    "\n",
    "- Extraer datos de generación de energía renovable y no renovable por Comunidad Autónoma.\n",
    "- Utilizar el diccionario cod_comunidades para obtener los códigos de cada comunidad autónoma.\n",
    "- Transformar los datos para incluir una columna que especifique la comunidad autónoma y su identificador.\n"
   ]
  },
  {
   "cell_type": "markdown",
   "metadata": {},
   "source": [
    "El diccionario de cod es: "
   ]
  },
  {
   "cell_type": "code",
   "execution_count": null,
   "metadata": {},
   "outputs": [],
   "source": [
    "cod_comunidades = {'Ceuta': 8744,\n",
    "                    'Melilla': 8745,\n",
    "                    'Andalucía': 4,\n",
    "                    'Aragón': 5,\n",
    "                    'Cantabria': 6,\n",
    "                    'Castilla - La Mancha': 7,\n",
    "                    'Castilla y León': 8,\n",
    "                    'Cataluña': 9,\n",
    "                    'País Vasco': 10,\n",
    "                    'Principado de Asturias': 11,\n",
    "                    'Comunidad de Madrid': 13,\n",
    "                    'Comunidad Foral de Navarra': 14,\n",
    "                    'Comunitat Valenciana': 15,\n",
    "                    'Extremadura': 16,\n",
    "                    'Galicia': 17,\n",
    "                    'Illes Balears': 8743,\n",
    "                    'Canarias': 8742,\n",
    "                    'Región de Murcia': 21,\n",
    "                    'La Rioja': 20}"
   ]
  }
 ],
 "metadata": {
  "kernelspec": {
   "display_name": "base",
   "language": "python",
   "name": "python3"
  },
  "language_info": {
   "codemirror_mode": {
    "name": "ipython",
    "version": 3
   },
   "file_extension": ".py",
   "mimetype": "text/x-python",
   "name": "python",
   "nbconvert_exporter": "python",
   "pygments_lexer": "ipython3",
   "version": "3.9.7"
  }
 },
 "nbformat": 4,
 "nbformat_minor": 2
}
